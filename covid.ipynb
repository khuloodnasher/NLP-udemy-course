{
  "nbformat": 4,
  "nbformat_minor": 0,
  "metadata": {
    "kernelspec": {
      "display_name": "Python 3.7 (tensorflow)",
      "language": "python",
      "name": "tensorflow"
    },
    "language_info": {
      "codemirror_mode": {
        "name": "ipython",
        "version": 3
      },
      "file_extension": ".py",
      "mimetype": "text/x-python",
      "name": "python",
      "nbconvert_exporter": "python",
      "pygments_lexer": "ipython3",
      "version": "3.7.7"
    },
    "toc": {
      "base_numbering": 1,
      "nav_menu": {},
      "number_sections": true,
      "sideBar": true,
      "skip_h1_title": false,
      "title_cell": "Table of Contents",
      "title_sidebar": "Contents",
      "toc_cell": true,
      "toc_position": {},
      "toc_section_display": true,
      "toc_window_display": false
    },
    "varInspector": {
      "cols": {
        "lenName": 16,
        "lenType": 16,
        "lenVar": 40
      },
      "kernels_config": {
        "python": {
          "delete_cmd_postfix": "",
          "delete_cmd_prefix": "del ",
          "library": "var_list.py",
          "varRefreshCmd": "print(var_dic_list())"
        },
        "r": {
          "delete_cmd_postfix": ") ",
          "delete_cmd_prefix": "rm(",
          "library": "var_list.r",
          "varRefreshCmd": "cat(var_dic_list()) "
        }
      },
      "types_to_exclude": [
        "module",
        "function",
        "builtin_function_or_method",
        "instance",
        "_Feature"
      ],
      "window_display": false
    },
    "colab": {
      "name": "covid.ipynb",
      "provenance": [],
      "include_colab_link": true
    }
  },
  "cells": [
    {
      "cell_type": "markdown",
      "metadata": {
        "id": "view-in-github",
        "colab_type": "text"
      },
      "source": [
        "<a href=\"https://colab.research.google.com/github/khuloodnasher/NLP-udemy-course/blob/main/covid.ipynb\" target=\"_parent\"><img src=\"https://colab.research.google.com/assets/colab-badge.svg\" alt=\"Open In Colab\"/></a>"
      ]
    },
    {
      "cell_type": "markdown",
      "metadata": {
        "toc": true,
        "id": "KnN-7kVWALfq"
      },
      "source": [
        "<h1>Table of Contents<span class=\"tocSkip\"></span></h1>\n",
        "<div class=\"toc\"><ul class=\"toc-item\"><li><ul class=\"toc-item\"><li><ul class=\"toc-item\"><li><ul class=\"toc-item\"><li><span><a href=\"#my_file-is-now-an-open-file-object-held-in-memory.-We'll-perform-some-reading-and-writing-exercises,-and-then-we-have-to-close-the-file-to-free-up-memory.\" data-toc-modified-id=\"my_file-is-now-an-open-file-object-held-in-memory.-We'll-perform-some-reading-and-writing-exercises,-and-then-we-have-to-close-the-file-to-free-up-memory.-0.0.0.1\"><span class=\"toc-item-num\">0.0.0.1&nbsp;&nbsp;</span>my_file is now an open file object held in memory. We'll perform some reading and writing exercises, and then we have to close the file to free up memory.</a></span></li></ul></li><li><span><a href=\"#AS-we-can-see-that-pdf-was-read-and-it-has-2-pages\" data-toc-modified-id=\"AS-we-can-see-that-pdf-was-read-and-it-has-2-pages-0.0.1\"><span class=\"toc-item-num\">0.0.1&nbsp;&nbsp;</span>AS we can see that pdf was read and it has 2 pages</a></span></li></ul></li></ul></li><li><span><a href=\"#Adding-to-PDFs\" data-toc-modified-id=\"Adding-to-PDFs-1\"><span class=\"toc-item-num\">1&nbsp;&nbsp;</span>Adding to PDFs</a></span><ul class=\"toc-item\"><li><span><a href=\"#We-can-not-write-to-PDFs-using-Python-because-of-the-differences-between-the-single-string-type-of-Python,-and-the-variety-of-fonts,-placements,-and-other-parameters-that-a-PDF-could-have.\" data-toc-modified-id=\"We-can-not-write-to-PDFs-using-Python-because-of-the-differences-between-the-single-string-type-of-Python,-and-the-variety-of-fonts,-placements,-and-other-parameters-that-a-PDF-could-have.-1.1\"><span class=\"toc-item-num\">1.1&nbsp;&nbsp;</span>We can not write to PDFs using Python because of the differences between the single string type of Python, and the variety of fonts, placements, and other parameters that a PDF could have.</a></span></li><li><span><a href=\"#What-we-can-do-is-copy-pages-and-append-pages-to-the-end.\" data-toc-modified-id=\"What-we-can-do-is-copy-pages-and-append-pages-to-the-end.-1.2\"><span class=\"toc-item-num\">1.2&nbsp;&nbsp;</span>What we can do is copy pages and append pages to the end.</a></span></li></ul></li></ul></div>"
      ]
    },
    {
      "cell_type": "code",
      "metadata": {
        "ExecuteTime": {
          "end_time": "2020-10-28T02:04:47.003605Z",
          "start_time": "2020-10-28T02:04:45.278954Z"
        },
        "id": "sosIjoZ9ALfr",
        "outputId": "58b4774b-4d6a-4f65-e533-ed990cfdc955"
      },
      "source": [
        "pip install PyPDF2"
      ],
      "execution_count": null,
      "outputs": [
        {
          "output_type": "stream",
          "text": [
            "Requirement already satisfied: PyPDF2 in /Users/khuloodnasher/opt/anaconda3/envs/tensorflow/lib/python3.7/site-packages (1.26.0)\n",
            "\u001b[33mWARNING: You are using pip version 20.2.3; however, version 20.2.4 is available.\n",
            "You should consider upgrading via the '/Users/khuloodnasher/opt/anaconda3/envs/tensorflow/bin/python -m pip install --upgrade pip' command.\u001b[0m\n",
            "Note: you may need to restart the kernel to use updated packages.\n"
          ],
          "name": "stdout"
        }
      ]
    },
    {
      "cell_type": "code",
      "metadata": {
        "ExecuteTime": {
          "end_time": "2020-10-28T02:04:47.010249Z",
          "start_time": "2020-10-28T02:04:47.007345Z"
        },
        "id": "ZnpFfau2ALfv"
      },
      "source": [
        "import PyPDF2"
      ],
      "execution_count": null,
      "outputs": []
    },
    {
      "cell_type": "code",
      "metadata": {
        "ExecuteTime": {
          "end_time": "2020-10-28T04:08:29.507234Z",
          "start_time": "2020-10-28T04:08:29.503896Z"
        },
        "id": "6sn2SF-wALfy"
      },
      "source": [
        "my_file = open('prevention.pdf','rb')"
      ],
      "execution_count": null,
      "outputs": []
    },
    {
      "cell_type": "markdown",
      "metadata": {
        "id": "WmgVK3ZyALf0"
      },
      "source": [
        "######  my_file is now an open file object held in memory. We'll perform some reading and writing exercises, and then we have to close the file to free up memory.\n"
      ]
    },
    {
      "cell_type": "code",
      "metadata": {
        "ExecuteTime": {
          "end_time": "2020-10-28T04:08:33.586391Z",
          "start_time": "2020-10-28T04:08:33.580833Z"
        },
        "id": "EqAxFSwIALf1"
      },
      "source": [
        "pdf_reader = PyPDF2.PdfFileReader(my_file)"
      ],
      "execution_count": null,
      "outputs": []
    },
    {
      "cell_type": "code",
      "metadata": {
        "ExecuteTime": {
          "end_time": "2020-10-28T04:08:37.709500Z",
          "start_time": "2020-10-28T04:08:37.700373Z"
        },
        "id": "8aZLXEmyALf3",
        "outputId": "df5ab263-62a7-49aa-b0ab-32e62c93842b"
      },
      "source": [
        "pdf_reader.numPages"
      ],
      "execution_count": null,
      "outputs": [
        {
          "output_type": "execute_result",
          "data": {
            "text/plain": [
              "2"
            ]
          },
          "metadata": {
            "tags": []
          },
          "execution_count": 98
        }
      ]
    },
    {
      "cell_type": "markdown",
      "metadata": {
        "id": "wKzQZld6ALf6"
      },
      "source": [
        "##### AS we can see that pdf was read and it has 2 pages"
      ]
    },
    {
      "cell_type": "code",
      "metadata": {
        "ExecuteTime": {
          "end_time": "2020-10-28T04:08:41.776146Z",
          "start_time": "2020-10-28T04:08:41.773330Z"
        },
        "id": "GKz_VMBEALf7"
      },
      "source": [
        "first_page = pdf_reader.getPage(0)"
      ],
      "execution_count": null,
      "outputs": []
    },
    {
      "cell_type": "code",
      "metadata": {
        "ExecuteTime": {
          "end_time": "2020-10-28T04:08:44.406059Z",
          "start_time": "2020-10-28T04:08:44.297574Z"
        },
        "id": "Cu04zLB9ALf9"
      },
      "source": [
        "first_page_text=first_page.extractText()"
      ],
      "execution_count": null,
      "outputs": []
    },
    {
      "cell_type": "code",
      "metadata": {
        "ExecuteTime": {
          "end_time": "2020-10-28T04:08:49.722345Z",
          "start_time": "2020-10-28T04:08:49.717549Z"
        },
        "id": "q0_h8h9EALgA",
        "outputId": "08a07a60-4070-4dfd-9b3f-dd38fdce5c68"
      },
      "source": [
        "first_page_text"
      ],
      "execution_count": null,
      "outputs": [
        {
          "output_type": "execute_result",
          "data": {
            "text/plain": [
              "'CS 316291A    09/02/2020cdc.gov/coronavirus\\nHow to Protect Yourself and Others\\nKnow how it spreads\\nŁ There is currently no vaccine to prevent coronavirus disease 2019 (COVID-19).\\nŁ The best way to prevent illness is to avoid being exposed to this virus.\\nŁ The virus is thought to spread mainly from person-to-person.\\n »Between people who are in close contact with one another (within about 6 feet).\\n »Through respiratory droplets produced when an infected person coughs, sneezes\\n or talks.\\n »These droplets can land in the mouths or noses of people who are nearby or \\npossibly be inhaled into the lungs.\\n »COVID-19 may be spread by people who are not showing symptoms.\\nEveryone should \\nClean your hands often\\nŁ Wash your hands \\noften with soap and water for at least 20 seconds especially after \\nyou have been in a public place, or after blowing your nose, coughing, or sneezing.\\nŁ If soap and water are not readily available, \\nuse a hand sanitizer that contains at \\nleast 60% alcohol.\\n Cover all surfaces of your hands and rub them together until\\n they feel dry.\\nŁ Avoid touching your eyes, nose, and mouth \\nwith unwashed hands.\\nAvoid close contact\\nŁ Limit contact with others as much as possible.\\nŁ Avoid close contact\\n with people who are sick.\\nŁ Put distance between yourself and other people.\\n »Remember that some people without symptoms may be able to spread virus. \\n »This is especially important for \\npeople who are at higher risk of getting \\nvery sick. \\nwww.cdc.gov/coronavirus/2019-ncov/need-extra-precautions/people-\\nat-higher-risk.html\\nAccessible version: \\nhttps://www.cdc.gov/coronavirus/2019-ncov/prevent-getting-sick/prevention.html\\n'"
            ]
          },
          "metadata": {
            "tags": []
          },
          "execution_count": 101
        }
      ]
    },
    {
      "cell_type": "code",
      "metadata": {
        "ExecuteTime": {
          "end_time": "2020-10-28T02:04:47.310455Z",
          "start_time": "2020-10-28T02:04:47.307888Z"
        },
        "id": "wMrmFyJYALgC"
      },
      "source": [
        "f.close()"
      ],
      "execution_count": null,
      "outputs": []
    },
    {
      "cell_type": "code",
      "metadata": {
        "ExecuteTime": {
          "end_time": "2020-10-28T02:04:47.314632Z",
          "start_time": "2020-10-28T02:04:47.311980Z"
        },
        "id": "tkvIpbimALgE"
      },
      "source": [
        "my_file = open('US_Declaration.pdf','rb')"
      ],
      "execution_count": null,
      "outputs": []
    },
    {
      "cell_type": "code",
      "metadata": {
        "ExecuteTime": {
          "end_time": "2020-10-28T02:04:47.321062Z",
          "start_time": "2020-10-28T02:04:47.316269Z"
        },
        "id": "9pcxXsCtALgG"
      },
      "source": [
        "pdf_reader = PyPDF2.PdfFileReader(my_file)"
      ],
      "execution_count": null,
      "outputs": []
    },
    {
      "cell_type": "code",
      "metadata": {
        "ExecuteTime": {
          "end_time": "2020-10-28T02:04:47.326691Z",
          "start_time": "2020-10-28T02:04:47.322314Z"
        },
        "id": "ThZT1pKRALgJ",
        "outputId": "cb7ec3ca-e9e2-4812-ab88-481033db898c"
      },
      "source": [
        "pdf_reader.numPages"
      ],
      "execution_count": null,
      "outputs": [
        {
          "output_type": "execute_result",
          "data": {
            "text/plain": [
              "5"
            ]
          },
          "metadata": {
            "tags": []
          },
          "execution_count": 63
        }
      ]
    },
    {
      "cell_type": "code",
      "metadata": {
        "ExecuteTime": {
          "end_time": "2020-10-28T02:04:47.330375Z",
          "start_time": "2020-10-28T02:04:47.327951Z"
        },
        "id": "PLBxrcpUALgL"
      },
      "source": [
        "page_one = pdf_reader.getPage(0)"
      ],
      "execution_count": null,
      "outputs": []
    },
    {
      "cell_type": "code",
      "metadata": {
        "ExecuteTime": {
          "end_time": "2020-10-28T02:04:47.344988Z",
          "start_time": "2020-10-28T02:04:47.332487Z"
        },
        "id": "Iu39wp97ALgQ"
      },
      "source": [
        "### We can then extract the text:\n",
        "page_one_text = page_one.extractText()"
      ],
      "execution_count": null,
      "outputs": []
    },
    {
      "cell_type": "code",
      "metadata": {
        "ExecuteTime": {
          "end_time": "2020-10-28T02:04:47.350682Z",
          "start_time": "2020-10-28T02:04:47.347215Z"
        },
        "id": "npwtBgfKALgS",
        "outputId": "2ae55e08-6493-4526-d218-986e09e06c18"
      },
      "source": [
        "page_one_text"
      ],
      "execution_count": null,
      "outputs": [
        {
          "output_type": "execute_result",
          "data": {
            "text/plain": [
              "\"Declaration of IndependenceIN CONGRESS, July 4, 1776. The unanimous Declaration of the thirteen united States of America, When in the Course of human events, it becomes necessary for one people to dissolve the\\npolitical bands which have connected them with another, and to assume among the powers of the\\nearth, the separate and equal station to which the Laws of Nature and of Nature's God entitle\\n\\nthem, a decent respect to the opinions of mankind requires that they should declare the causes\\n\\nwhich impel them to the separation. \\nWe hold these truths to be self-evident, that all men are created equal, that they are endowed by\\n\\ntheir Creator with certain unalienable Rights, that among these are Life, Liberty and the pursuit\\nof Happiness.ŠThat to secure these rights, Governments are instituted among Men, deriving\\n\\ntheir just powers from the consent of the governed,ŠThat whenever any Form of Government\\nbecomes destructive of these ends, it is the Right of the People to alter or to abolish it, and to\\ninstitute new Government, laying its foundation on such principles and organizing its powers in\\nsuch form, as to them shall seem most likely to effect their Safety and Happiness. Prudence,\\n\\nindeed, will dictate that Governments long established should not be changed for light and\\ntransient causes; and accordingly all experience hath shewn, that mankind are more disposed to\\nsuffer, while evils are sufferable, than to right themselves by abolishing the forms to which they\\n\\nare accustomed. But when a long train of abuses and usurpations, pursuing invariably the same\\nObject evinces a design to reduce them under absolute Despotism, it is their right, it is their duty,\\nto throw off such Government, and to provide new Guards for their future security.ŠSuch has\\nbeen the patient sufferance of these Colonies; and such is now the necessity which constrains\\n\\nthem to alter their former Systems of Government. The history of the present King of Great\\n\\nBritain is a history of repeated injuries and usurpations, all having in direct object the\\nestablishment of an absolute Tyranny over these States. To prove this, let Facts be submitted to a\\ncandid world. He has refused his Assent to Laws, the most wholesome and necessary for the\\npublic good.\\nHe has forbidden his Governors to pass Laws of immediate and pressing\\nimportance, unless suspended in their operation till his Assent should be obtained;\\nand when so suspended, he has utterly neglected to attend to them.\\n\\nHe has refused to pass other Laws for the accommodation of large districts of\\npeople, unless those people would relinquish the right of Representation in the\\nLegislature, a right inestimable to them and formidable to tyrants only. \\n\\nHe has called together legislative bodies at places unusual, uncomfortable, and distant\\nfrom the depository of their public Records, for the sole purpose of fatiguing them into\\ncompliance with his measures.\\n\""
            ]
          },
          "metadata": {
            "tags": []
          },
          "execution_count": 66
        }
      ]
    },
    {
      "cell_type": "code",
      "metadata": {
        "ExecuteTime": {
          "end_time": "2020-10-28T02:04:47.355539Z",
          "start_time": "2020-10-28T02:04:47.352591Z"
        },
        "id": "GZYL0aKJALgU"
      },
      "source": [
        "my_file.close()"
      ],
      "execution_count": null,
      "outputs": []
    },
    {
      "cell_type": "markdown",
      "metadata": {
        "ExecuteTime": {
          "end_time": "2020-10-28T01:47:43.927265Z",
          "start_time": "2020-10-28T01:47:43.924781Z"
        },
        "id": "e19HzwBSALgW"
      },
      "source": [
        "### Adding to PDFs\n",
        "#### We can not write to PDFs using Python because of the differences between the single string type of Python, and the variety of fonts, placements, and other parameters that a PDF could have.\n",
        "\n",
        "#### What we can do is copy pages and append pages to the end."
      ]
    },
    {
      "cell_type": "code",
      "metadata": {
        "ExecuteTime": {
          "end_time": "2020-10-28T02:04:47.364504Z",
          "start_time": "2020-10-28T02:04:47.357924Z"
        },
        "id": "9MA0uNE8ALgX"
      },
      "source": [
        "f = open('US_Declaration.pdf','rb')\n",
        "pdf_reader = PyPDF2.PdfFileReader(f)\n"
      ],
      "execution_count": null,
      "outputs": []
    },
    {
      "cell_type": "code",
      "metadata": {
        "ExecuteTime": {
          "end_time": "2020-10-28T02:04:47.371773Z",
          "start_time": "2020-10-28T02:04:47.366649Z"
        },
        "id": "4Aamv-yVALgZ"
      },
      "source": [
        "first_page = pdf_reader.getPage(0)"
      ],
      "execution_count": null,
      "outputs": []
    },
    {
      "cell_type": "code",
      "metadata": {
        "ExecuteTime": {
          "end_time": "2020-10-28T02:04:47.376864Z",
          "start_time": "2020-10-28T02:04:47.374037Z"
        },
        "id": "ee9tjAGWALgb"
      },
      "source": [
        "pdf_writer = PyPDF2.PdfFileWriter()"
      ],
      "execution_count": null,
      "outputs": []
    },
    {
      "cell_type": "code",
      "metadata": {
        "ExecuteTime": {
          "end_time": "2020-10-28T02:04:47.381330Z",
          "start_time": "2020-10-28T02:04:47.378783Z"
        },
        "id": "049bBVScALgd"
      },
      "source": [
        "pdf_writer.addPage(first_page)"
      ],
      "execution_count": null,
      "outputs": []
    },
    {
      "cell_type": "code",
      "metadata": {
        "ExecuteTime": {
          "end_time": "2020-10-28T02:04:47.385949Z",
          "start_time": "2020-10-28T02:04:47.383228Z"
        },
        "id": "Gp3ma5DlALgf"
      },
      "source": [
        "pdf_output = open(\"Some_New_Doc.pdf\",\"wb\")"
      ],
      "execution_count": null,
      "outputs": []
    },
    {
      "cell_type": "code",
      "metadata": {
        "ExecuteTime": {
          "end_time": "2020-10-28T02:04:47.401789Z",
          "start_time": "2020-10-28T02:04:47.392650Z"
        },
        "id": "zCiJXlw1ALgi"
      },
      "source": [
        "pdf_writer.write(pdf_output)"
      ],
      "execution_count": null,
      "outputs": []
    },
    {
      "cell_type": "code",
      "metadata": {
        "ExecuteTime": {
          "end_time": "2020-10-28T02:04:47.409235Z",
          "start_time": "2020-10-28T02:04:47.406882Z"
        },
        "id": "di212T6vALgk"
      },
      "source": [
        "pdf_output.close()\n",
        "f.close()"
      ],
      "execution_count": null,
      "outputs": []
    },
    {
      "cell_type": "code",
      "metadata": {
        "ExecuteTime": {
          "end_time": "2020-10-28T02:04:47.460610Z",
          "start_time": "2020-10-28T02:04:47.411190Z"
        },
        "id": "T01aF5s8ALgm"
      },
      "source": [
        "f = open('US_Declaration.pdf','rb')\n",
        "\n",
        "# List of every page's text.\n",
        "# The index will correspond to the page number.\n",
        "pdf_text = [0]  # zero is a placehoder to make page 1 = index 1\n",
        "\n",
        "pdf_reader = PyPDF2.PdfFileReader(f)\n",
        "\n",
        "for p in range(pdf_reader.numPages):\n",
        "    \n",
        "    page = pdf_reader.getPage(p)\n",
        "    \n",
        "    pdf_text.append(page.extractText())\n",
        "\n",
        "f.close()"
      ],
      "execution_count": null,
      "outputs": []
    },
    {
      "cell_type": "code",
      "metadata": {
        "ExecuteTime": {
          "end_time": "2020-10-28T02:04:47.467496Z",
          "start_time": "2020-10-28T02:04:47.462625Z"
        },
        "id": "VsR1j6v4ALgp",
        "outputId": "73535647-8886-4a4b-8ab7-ae1ed899f973"
      },
      "source": [
        "pdf_text"
      ],
      "execution_count": null,
      "outputs": [
        {
          "output_type": "execute_result",
          "data": {
            "text/plain": [
              "[0,\n",
              " \"Declaration of IndependenceIN CONGRESS, July 4, 1776. The unanimous Declaration of the thirteen united States of America, When in the Course of human events, it becomes necessary for one people to dissolve the\\npolitical bands which have connected them with another, and to assume among the powers of the\\nearth, the separate and equal station to which the Laws of Nature and of Nature's God entitle\\n\\nthem, a decent respect to the opinions of mankind requires that they should declare the causes\\n\\nwhich impel them to the separation. \\nWe hold these truths to be self-evident, that all men are created equal, that they are endowed by\\n\\ntheir Creator with certain unalienable Rights, that among these are Life, Liberty and the pursuit\\nof Happiness.ŠThat to secure these rights, Governments are instituted among Men, deriving\\n\\ntheir just powers from the consent of the governed,ŠThat whenever any Form of Government\\nbecomes destructive of these ends, it is the Right of the People to alter or to abolish it, and to\\ninstitute new Government, laying its foundation on such principles and organizing its powers in\\nsuch form, as to them shall seem most likely to effect their Safety and Happiness. Prudence,\\n\\nindeed, will dictate that Governments long established should not be changed for light and\\ntransient causes; and accordingly all experience hath shewn, that mankind are more disposed to\\nsuffer, while evils are sufferable, than to right themselves by abolishing the forms to which they\\n\\nare accustomed. But when a long train of abuses and usurpations, pursuing invariably the same\\nObject evinces a design to reduce them under absolute Despotism, it is their right, it is their duty,\\nto throw off such Government, and to provide new Guards for their future security.ŠSuch has\\nbeen the patient sufferance of these Colonies; and such is now the necessity which constrains\\n\\nthem to alter their former Systems of Government. The history of the present King of Great\\n\\nBritain is a history of repeated injuries and usurpations, all having in direct object the\\nestablishment of an absolute Tyranny over these States. To prove this, let Facts be submitted to a\\ncandid world. He has refused his Assent to Laws, the most wholesome and necessary for the\\npublic good.\\nHe has forbidden his Governors to pass Laws of immediate and pressing\\nimportance, unless suspended in their operation till his Assent should be obtained;\\nand when so suspended, he has utterly neglected to attend to them.\\n\\nHe has refused to pass other Laws for the accommodation of large districts of\\npeople, unless those people would relinquish the right of Representation in the\\nLegislature, a right inestimable to them and formidable to tyrants only. \\n\\nHe has called together legislative bodies at places unusual, uncomfortable, and distant\\nfrom the depository of their public Records, for the sole purpose of fatiguing them into\\ncompliance with his measures.\\n\",\n",
              " 'He has dissolved Representative Houses repeatedly, for opposing with manlyfirmness his invasions on the rights of the people.He has refused for a long time, after such dissolutions, to cause others to beelected; whereby the Legislative powers, incapable of Annihilation, have returnedto the People at large for their exercise; the State remaining in the mean timeexposed to all the dangers of invasion from without, and convulsions within.He has endeavoured to prevent the population of these States; for that purposeobstructing the Laws for Naturalization of Foreigners; refusing to pass others toencourage their migrations hither, and raising the conditions of newAppropriations of Lands.He has obstructed the Administration of Justice, by refusing his Assent to Lawsfor establishing Judiciary powers.He has made Judges dependent on his Will alone, for the tenure of their offices,and the amount and payment of their salaries.He has erected a multitude of New Offices, and sent hither swarms of Officers toharrass our people, and eat out their substance.He has kept among us, in times of peace, Standing Armies without the Consent ofour legislatures.He has affected to render the Military independent of and superior to the Civil power.He has combined with others to subject us to a jurisdiction foreign to ourconstitution, and unacknowledged by our laws; giving his Assent to their Acts ofpretended Legislation:For Quartering large bodies of armed troops among us:For protecting them, by a mock Trial, from punishment for any Murders whichthey should commit on the Inhabitants of these States:For cutting off our Trade with all parts of the world:For imposing Taxes on us without our Consent: For depriving us in many cases,of the benefits of Trial by Jury:For transporting us beyond Seas to be tried for pretended offencesFor abolishing the free System of English Laws in a neighbouring Province,establishing therein an Arbitrary government, and enlarging its Boundaries so as',\n",
              " 'to render it at once an example and fit instrument for introducing the sameabsolute rule into these Colonies:For taking away our Charters, abolishing our most valuable Laws, and alteringfundamentally the Forms of our Governments:For suspending our own Legislatures, and declaring themselves invested withpower to legislate for us in all cases whatsoever.He has abdicated Government here, by declaring us out of his Protection andwaging War against us.He has plundered our seas, ravaged our Coasts, burnt our towns, and destroyed thelives of our people.He is at this time transporting large Armies of foreign Mercenaries to compleatthe works of death, desolation and tyranny, already begun with circumstances ofCruelty & perfidy scarcely paralleled in the most barbarous ages, and totallyunworthy of the Head of a civilized nation.He has constrained our fellow Citizens taken Captive on the high Seas to bearArms against their Country, to become the executioners of their friends and\\nBrethren, or to fall themselves by their Hands.He has excited domestic insurrections amongst us, and has endeavoured to bringon the inhabitants of our frontiers, the merciless Indian Savages, whose known\\nrule of warfare, is an undistinguished destruction of all ages, sexes and conditions. In every stage of these Oppressions We have Petitioned for Redress in the most humble terms:Our repeated Petitions have been answered only by repeated injury. A Prince whose character isthus marked by every act which may define a Tyrant, is unfit to be the ruler of a free people. Nor have We been wanting in attentions to our Brittish brethren. We have warned them fromtime to time of attempts by their legislature to extend an unwarrantable jurisdiction over us. Wehave reminded them of the circumstances of our emigration and settlement here. We haveappealed to their native justice and magnanimity, and we have conjured them by the ties of ourcommon kindred to disavow these usurpations, which, would inevitably interrupt ourconnections and correspondence. They too have been deaf to the voice of justice and ofconsanguinity. We must, therefore, acquiesce in the necessity, which denounces our Separation,and hold them, as we hold the rest of mankind, Enemies in War, in Peace Friends. We, therefore, the Representatives of the united States of America, in General Congress,Assembled, appealing to the Supreme Judge of the world for the rectitude of our intentions, do,in the Name, and by Authority of the good People of these Colonies, solemnly publish anddeclare, That these United Colonies are, and of Right ought to be Free and Independent States;that they are Absolved from all Allegiance to the British Crown, and that all political connection',\n",
              " 'between them and the State of Great Britain, is and ought to be totally dissolved; and that as Free\\n\\nand Independent States, they have full Power to levy War, conclude Peace, contract Alliances,\\nestablish Commerce, and to do all other Acts and Things which Independent States may of right\\n\\ndo. And for the support of this Declaration, with a firm reliance on the protection of divine\\nProvidence, we mutually pledge to each other our Lives, our Fortunes and our sacred Honor.\\n\\n[The 56 signatures on the Declaration were arranged in six columns:\\n] [Column 1]\\n Georgia:   Button Gwinnett\\n   Lyman \\nHall   George Walton \\n[Column 2]\\n North Carolina:   William Hooper\\n   Joseph Hewes\\n   John Penn\\n South Carolina:   Edward Ru\\ntledge   Thomas Heyward, Jr.\\n  Thomas Lynch, Jr.\\n  Arthur Middleton \\n[Column 3]\\n Massachusetts:   John Hancock\\n\\n Maryland:   Samuel Chase\\n\\n   William Paca\\n\\n   Thomas Stone\\n\\n   Charles Carroll of Carrollton\\n\\n Virginia:   George Wythe\\n\\n   Richard Henry Lee\\n\\n   Thomas Jefferson\\n\\n   Benjamin Harrison\\n\\n   Thomas Nelson, Jr.\\n\\n   Francis Lightfoot Lee\\n\\n   Carter Braxton \\n\\n[Column 4]\\n Pennsylvania:  Robert Morris\\n\\n   Benjamin Rush\\n   Benjamin Fran\\nklin   John Morton\\n',\n",
              " '   George Clymer\\n   James Smith\\n   George Taylor\\n   James Wilson\\n   George Ross\\n Delaware:   Caesar Rodney\\n   George Read\\n   Thomas McKean \\n[Column 5]\\n New York:   Wi\\nlliam Floyd   Philip Livingston\\n   Francis L\\newis   Lewis Morris\\n New Jersey:   Richard Stockton\\n   John Witherspoon\\n   Francis Hopkinson\\n   John Hart\\n   Abraham Clark \\n[Column 6]\\n New Hampshire:   Josiah Bartlett\\n   William Whipple\\n Massachusetts:   Samuel Adams\\n   John Adams\\n   Robert Treat Paine\\n   Elbridge Gerry\\n Rhode Island:   Stephen Hopkins\\n   William Ellery\\n Connecticut:   Roger Sherman\\n   Samuel Huntington\\n   William Williams\\n   Oliver Wolcott\\n New Hampshire: Matthew Thornton\\n ']"
            ]
          },
          "metadata": {
            "tags": []
          },
          "execution_count": 76
        }
      ]
    },
    {
      "cell_type": "code",
      "metadata": {
        "ExecuteTime": {
          "end_time": "2020-10-28T02:04:47.473089Z",
          "start_time": "2020-10-28T02:04:47.470083Z"
        },
        "id": "cfKSPsxgALgs",
        "outputId": "199d03ea-e413-4859-ec21-a68ce18724f4"
      },
      "source": [
        "print(pdf_text[2])"
      ],
      "execution_count": null,
      "outputs": [
        {
          "output_type": "stream",
          "text": [
            "He has dissolved Representative Houses repeatedly, for opposing with manlyfirmness his invasions on the rights of the people.He has refused for a long time, after such dissolutions, to cause others to beelected; whereby the Legislative powers, incapable of Annihilation, have returnedto the People at large for their exercise; the State remaining in the mean timeexposed to all the dangers of invasion from without, and convulsions within.He has endeavoured to prevent the population of these States; for that purposeobstructing the Laws for Naturalization of Foreigners; refusing to pass others toencourage their migrations hither, and raising the conditions of newAppropriations of Lands.He has obstructed the Administration of Justice, by refusing his Assent to Lawsfor establishing Judiciary powers.He has made Judges dependent on his Will alone, for the tenure of their offices,and the amount and payment of their salaries.He has erected a multitude of New Offices, and sent hither swarms of Officers toharrass our people, and eat out their substance.He has kept among us, in times of peace, Standing Armies without the Consent ofour legislatures.He has affected to render the Military independent of and superior to the Civil power.He has combined with others to subject us to a jurisdiction foreign to ourconstitution, and unacknowledged by our laws; giving his Assent to their Acts ofpretended Legislation:For Quartering large bodies of armed troops among us:For protecting them, by a mock Trial, from punishment for any Murders whichthey should commit on the Inhabitants of these States:For cutting off our Trade with all parts of the world:For imposing Taxes on us without our Consent: For depriving us in many cases,of the benefits of Trial by Jury:For transporting us beyond Seas to be tried for pretended offencesFor abolishing the free System of English Laws in a neighbouring Province,establishing therein an Arbitrary government, and enlarging its Boundaries so as\n"
          ],
          "name": "stdout"
        }
      ]
    },
    {
      "cell_type": "code",
      "metadata": {
        "ExecuteTime": {
          "end_time": "2020-10-28T03:27:26.462554Z",
          "start_time": "2020-10-28T03:27:26.455034Z"
        },
        "id": "C7L3FCzgALgu",
        "outputId": "6edd03a6-76c7-4502-bd03-de7073164a40"
      },
      "source": [
        "pwd"
      ],
      "execution_count": null,
      "outputs": [
        {
          "output_type": "execute_result",
          "data": {
            "text/plain": [
              "'/Users/khuloodnasher/Documents/Flatiorn/udemy'"
            ]
          },
          "metadata": {
            "tags": []
          },
          "execution_count": 78
        }
      ]
    },
    {
      "cell_type": "code",
      "metadata": {
        "id": "yfjgLzemALgw"
      },
      "source": [
        ""
      ],
      "execution_count": null,
      "outputs": []
    }
  ]
}